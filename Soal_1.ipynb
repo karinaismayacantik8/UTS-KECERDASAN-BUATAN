{
  "nbformat": 4,
  "nbformat_minor": 0,
  "metadata": {
    "colab": {
      "provenance": [],
      "authorship_tag": "ABX9TyNywESSE93AIDdHgim6G3c/",
      "include_colab_link": true
    },
    "kernelspec": {
      "name": "python3",
      "display_name": "Python 3"
    },
    "language_info": {
      "name": "python"
    }
  },
  "cells": [
    {
      "cell_type": "markdown",
      "metadata": {
        "id": "view-in-github",
        "colab_type": "text"
      },
      "source": [
        "<a href=\"https://colab.research.google.com/github/karinaismayacantik8/UTS-KECERDASAN-BUATAN/blob/main/Soal_1.ipynb\" target=\"_parent\"><img src=\"https://colab.research.google.com/assets/colab-badge.svg\" alt=\"Open In Colab\"/></a>"
      ]
    },
    {
      "cell_type": "code",
      "execution_count": 1,
      "metadata": {
        "colab": {
          "base_uri": "https://localhost:8080/"
        },
        "id": "l0sDbtPTAAl7",
        "outputId": "4515093c-88be-4689-ac80-ca0ca67fe0a7"
      },
      "outputs": [
        {
          "output_type": "stream",
          "name": "stdout",
          "text": [
            "Tanaman terkena Hama A\n"
          ]
        }
      ],
      "source": [
        "def identifikasi_hama(gejala):\n",
        "    daun_menguning = \"daun menguning\" in gejala\n",
        "    bercak_hitam = \"bercak hitam\" in gejala\n",
        "    daun_berlubang = \"daun berlubang\" in gejala\n",
        "    tanaman_kayu = \"tanaman kayu\" in gejala\n",
        "\n",
        "    if daun_menguning and bercak_hitam:\n",
        "        return \"Hama A\"\n",
        "    elif daun_berlubang:\n",
        "        return \"Hama B\"\n",
        "    elif tanaman_kayu and bercak_hitam:\n",
        "        return \"Hama C\"\n",
        "    elif daun_menguning and daun_berlubang:\n",
        "        return \"Hama D\"\n",
        "    else:\n",
        "        return \"Hama tidak diketahui\"\n",
        "\n",
        "# Contoh penggunaan\n",
        "gejala_input = [\"daun menguning\", \"bercak hitam\"]\n",
        "hasil = identifikasi_hama(gejala_input)\n",
        "print(f\"Tanaman terkena {hasil}\")\n"
      ]
    }
  ]
}